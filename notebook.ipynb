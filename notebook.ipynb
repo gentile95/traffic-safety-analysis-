{
 "cells": [
  {
   "cell_type": "markdown",
   "id": "b2fab78e",
   "metadata": {
    "id": "b2fab78e"
   },
   "source": [
    "# Analyzing Traffic Safety Data with Python"
   ]
  },
  {
   "cell_type": "code",
   "execution_count": 40,
   "id": "8cc870b1",
   "metadata": {
    "executionInfo": {
     "elapsed": 152,
     "status": "ok",
     "timestamp": 1668484657271,
     "user": {
      "displayName": "Maggi Mars",
      "userId": "15664582298795720795"
     },
     "user_tz": 300
    },
    "id": "8cc870b1"
   },
   "outputs": [],
   "source": [
    "# Importing libraries\n",
    "\n",
    "import pandas as pd\n",
    "import datetime as dt\n",
    "from scipy.stats import pearsonr\n",
    "from sklearn.linear_model import LinearRegression\n",
    "import seaborn as sns\n",
    "import matplotlib.pyplot as plt\n",
    "\n",
    "\n",
    "%matplotlib inline\n",
    "# set plot theme and palette\n",
    "sns.set_theme()\n",
    "sns.set_palette('colorblind')"
   ]
  },
  {
   "cell_type": "markdown",
   "id": "4c5a1426",
   "metadata": {
    "id": "4c5a1426"
   },
   "source": [
    "## Traffic data exploration"
   ]
  },
  {
   "cell_type": "markdown",
   "id": "347264a9",
   "metadata": {
    "id": "347264a9"
   },
   "source": [
    "### 1. Inspecting the traffic safety dataset\n",
    "\n",
    "Inspecting the first few rows"
   ]
  },
  {
   "cell_type": "code",
   "execution_count": 41,
   "id": "ff05693b",
   "metadata": {
    "colab": {
     "base_uri": "https://localhost:8080/",
     "height": 206
    },
    "executionInfo": {
     "elapsed": 222,
     "status": "ok",
     "timestamp": 1668484659648,
     "user": {
      "displayName": "Maggi Mars",
      "userId": "15664582298795720795"
     },
     "user_tz": 300
    },
    "id": "ff05693b",
    "outputId": "64cdedc3-5d4f-4f19-fe71-21b1a3dfc91b",
    "scrolled": true
   },
   "outputs": [
    {
     "data": {
      "text/html": [
       "<div>\n",
       "<style scoped>\n",
       "    .dataframe tbody tr th:only-of-type {\n",
       "        vertical-align: middle;\n",
       "    }\n",
       "\n",
       "    .dataframe tbody tr th {\n",
       "        vertical-align: top;\n",
       "    }\n",
       "\n",
       "    .dataframe thead th {\n",
       "        text-align: right;\n",
       "    }\n",
       "</style>\n",
       "<table border=\"1\" class=\"dataframe\">\n",
       "  <thead>\n",
       "    <tr style=\"text-align: right;\">\n",
       "      <th></th>\n",
       "      <th>Date</th>\n",
       "      <th>Crashes_per_100k</th>\n",
       "      <th>Season</th>\n",
       "    </tr>\n",
       "  </thead>\n",
       "  <tbody>\n",
       "    <tr>\n",
       "      <th>0</th>\n",
       "      <td>2006-01-01</td>\n",
       "      <td>169.176541</td>\n",
       "      <td>Winter</td>\n",
       "    </tr>\n",
       "    <tr>\n",
       "      <th>1</th>\n",
       "      <td>2006-02-01</td>\n",
       "      <td>154.028836</td>\n",
       "      <td>Winter</td>\n",
       "    </tr>\n",
       "    <tr>\n",
       "      <th>2</th>\n",
       "      <td>2006-03-01</td>\n",
       "      <td>159.930002</td>\n",
       "      <td>Spring</td>\n",
       "    </tr>\n",
       "    <tr>\n",
       "      <th>3</th>\n",
       "      <td>2006-04-01</td>\n",
       "      <td>155.741270</td>\n",
       "      <td>Spring</td>\n",
       "    </tr>\n",
       "    <tr>\n",
       "      <th>4</th>\n",
       "      <td>2006-05-01</td>\n",
       "      <td>168.179208</td>\n",
       "      <td>Spring</td>\n",
       "    </tr>\n",
       "  </tbody>\n",
       "</table>\n",
       "</div>"
      ],
      "text/plain": [
       "         Date  Crashes_per_100k  Season\n",
       "0  2006-01-01        169.176541  Winter\n",
       "1  2006-02-01        154.028836  Winter\n",
       "2  2006-03-01        159.930002  Spring\n",
       "3  2006-04-01        155.741270  Spring\n",
       "4  2006-05-01        168.179208  Spring"
      ]
     },
     "execution_count": 41,
     "metadata": {},
     "output_type": "execute_result"
    }
   ],
   "source": [
    "# load dataset\n",
    "traffic = pd.read_csv(\"traffic.csv\")\n",
    "\n",
    "# inspecting first few rows\n",
    "traffic.head()"
   ]
  },
  {
   "cell_type": "markdown",
   "id": "72c9daa3",
   "metadata": {
    "id": "347264a9"
   },
   "source": [
    "### 2. Formatting data types\n",
    "\n",
    "The `traffic` data frame contains three columns: `Date`, `Crashes_per_100k`, and `Season`. In order to plot the `Crashes_per_100k` column as a time series, we need to make sure that the `Date` column is in date format. In order to do that we need to convert the Object type to Datetime type."
   ]
  },
  {
   "cell_type": "code",
   "execution_count": 42,
   "id": "384c95dc",
   "metadata": {
    "colab": {
     "base_uri": "https://localhost:8080/"
    },
    "executionInfo": {
     "elapsed": 157,
     "status": "ok",
     "timestamp": 1668484661567,
     "user": {
      "displayName": "Maggi Mars",
      "userId": "15664582298795720795"
     },
     "user_tz": 300
    },
    "id": "384c95dc",
    "outputId": "cfa04edd-02a2-4289-86b5-67816804c57c"
   },
   "outputs": [
    {
     "data": {
      "text/plain": [
       "Date                 object\n",
       "Crashes_per_100k    float64\n",
       "Season               object\n",
       "dtype: object"
      ]
     },
     "execution_count": 42,
     "metadata": {},
     "output_type": "execute_result"
    }
   ],
   "source": [
    "traffic.dtypes"
   ]
  },
  {
   "cell_type": "markdown",
   "id": "a7d47bed",
   "metadata": {
    "id": "a7d47bed"
   },
   "source": [
    "Converting the `Date` column to the date datatype using the `pd.to_datatime()` function."
   ]
  },
  {
   "cell_type": "code",
   "execution_count": 43,
   "id": "8d8677d2",
   "metadata": {
    "colab": {
     "base_uri": "https://localhost:8080/"
    },
    "executionInfo": {
     "elapsed": 174,
     "status": "ok",
     "timestamp": 1668484664003,
     "user": {
      "displayName": "Maggi Mars",
      "userId": "15664582298795720795"
     },
     "user_tz": 300
    },
    "id": "8d8677d2",
    "outputId": "480c07db-68fd-4516-e68d-2dc742d5f81a"
   },
   "outputs": [
    {
     "data": {
      "text/plain": [
       "Date                datetime64[ns]\n",
       "Crashes_per_100k           float64\n",
       "Season                      object\n",
       "dtype: object"
      ]
     },
     "execution_count": 43,
     "metadata": {},
     "output_type": "execute_result"
    }
   ],
   "source": [
    "# convert Date to date format\n",
    "traffic.Date = pd.to_datetime(traffic[\"Date\"])\n",
    "\n",
    "# inspect data types\n",
    "traffic.dtypes"
   ]
  },
  {
   "cell_type": "code",
   "execution_count": 44,
   "id": "3cd84901",
   "metadata": {},
   "outputs": [
    {
     "data": {
      "text/plain": [
       "(180, 3)"
      ]
     },
     "execution_count": 44,
     "metadata": {},
     "output_type": "execute_result"
    }
   ],
   "source": [
    "# inspect dataframe shape\n",
    "traffic.shape"
   ]
  },
  {
   "cell_type": "markdown",
   "id": "9b022de9",
   "metadata": {
    "id": "9b022de9"
   },
   "source": [
    "### 3. Visualizing traffic safety data\n",
    "To get a sense of trends that may exist in the data, we'll use seaborn's `sns.lineplot()` function to create a line plot of the `traffic` data with `Date` on the x-axis and `Crashes_per_100k` on the y-axis."
   ]
  },
  {
   "cell_type": "code",
   "execution_count": 45,
   "id": "cc61ee21",
   "metadata": {
    "colab": {
     "base_uri": "https://localhost:8080/",
     "height": 285
    },
    "executionInfo": {
     "elapsed": 449,
     "status": "ok",
     "timestamp": 1668484666431,
     "user": {
      "displayName": "Maggi Mars",
      "userId": "15664582298795720795"
     },
     "user_tz": 300
    },
    "id": "cc61ee21",
    "outputId": "32d67125-a9fa-4eb3-feb9-d6e94bd6bfe1",
    "scrolled": false
   },
   "outputs": [
    {
     "data": {
      "text/plain": [
       "<AxesSubplot:xlabel='Date', ylabel='Crashes_per_100k'>"
      ]
     },
     "execution_count": 45,
     "metadata": {},
     "output_type": "execute_result"
    },
    {
     "data": {
      "image/png": "[encoded data removed]",
      "text/plain": [
       "<Figure size 640x480 with 1 Axes>"
      ]
     },
     "metadata": {},
     "output_type": "display_data"
    }
   ],
   "source": [
    "# creating line plot\n",
    "sns.lineplot(x=traffic.Date, y=traffic.Crashes_per_100k)"
   ]
  },
  {
   "cell_type": "markdown",
   "id": "21771d7f",
   "metadata": {
    "id": "21771d7f"
   },
   "source": [
    "Looking at the line plot of our collision data, we can see the decreasing trend in crash rates from 2006 continuing until 2010 or 2011, and then crash rates begin increasing. The data for 2020 is very different from the preceding years.\n",
    "    \n",
    "There also appear to be cyclical patterns, which may indicate differing crash rates by season."
   ]
  },
  {
   "cell_type": "markdown",
   "id": "328a0a2c",
   "metadata": {
    "id": "328a0a2c"
   },
   "source": [
    "### 4. Visualizing seasonal rates\n",
    "\n",
    "Since we saw a fair amount of variance in the number of collisions occurring throughout the year, we might hypothesize that the number of collisions increases or decreases during different seasons. We can visually explore this with a box plot. \n",
    "\n",
    "Using `sns.boxplot()` with crash rate on the x-axis and season on the y-axis, and Removing the anomolous 2020 data by adjusting the `data` parameter to `traffic[traffic.Date.dt.year != 2020]`."
   ]
  },
  {
   "cell_type": "code",
   "execution_count": 46,
   "id": "1a9f883b",
   "metadata": {
    "colab": {
     "base_uri": "https://localhost:8080/",
     "height": 285
    },
    "executionInfo": {
     "elapsed": 341,
     "status": "ok",
     "timestamp": 1668484669339,
     "user": {
      "displayName": "Maggi Mars",
      "userId": "15664582298795720795"
     },
     "user_tz": 300
    },
    "id": "1a9f883b",
    "outputId": "1a941981-fa8f-4e13-db11-09ebdaaf4809"
   },
   "outputs": [
    {
     "data": {
      "text/plain": [
       "<AxesSubplot:xlabel='Crashes_per_100k', ylabel='Season'>"
      ]
     },
     "execution_count": 46,
     "metadata": {},
     "output_type": "execute_result"
    },
    {
     "data": {
      "image/png": "[encoded data removed]",
      "text/plain": [
       "<Figure size 640x480 with 1 Axes>"
      ]
     },
     "metadata": {},
     "output_type": "display_data"
    }
   ],
   "source": [
    "# creating box plot by season\n",
    "sns.boxplot(x=traffic[traffic.Date.dt.year != 2020].Crashes_per_100k, y=traffic[traffic.Date.dt.year != 2020].Season)"
   ]
  },
  {
   "cell_type": "markdown",
   "id": "f77011a6",
   "metadata": {
    "id": "f77011a6"
   },
   "source": [
    "Winter and Fall appear to have generally higher crash rates than Spring and Summer. Seasons may be the reason for the pattern in crash rates."
   ]
  },
  {
   "cell_type": "markdown",
   "id": "2b608d90",
   "metadata": {
    "id": "2b608d90"
   },
   "source": [
    "## Smartphone data exploration"
   ]
  },
  {
   "cell_type": "markdown",
   "id": "53e74299",
   "metadata": {
    "id": "53e74299"
   },
   "source": [
    "### 5. Inspecting the smartphone use dataset\n",
    "\n",
    "The dataset `crashes_smartphones.csv` contains smartphone data from Pew Research Center matched to normalized crash rates from the `traffic` data frame for the years 2011 to 2019."
   ]
  },
  {
   "cell_type": "code",
   "execution_count": 47,
   "id": "fa8f1669",
   "metadata": {
    "colab": {
     "base_uri": "https://localhost:8080/",
     "height": 250
    },
    "executionInfo": {
     "elapsed": 170,
     "status": "ok",
     "timestamp": 1668484672517,
     "user": {
      "displayName": "Maggi Mars",
      "userId": "15664582298795720795"
     },
     "user_tz": 300
    },
    "id": "fa8f1669",
    "outputId": "bc6ffefb-97ba-4bca-f6f4-c7faee0bb948"
   },
   "outputs": [
    {
     "data": {
      "text/html": [
       "<div>\n",
       "<style scoped>\n",
       "    .dataframe tbody tr th:only-of-type {\n",
       "        vertical-align: middle;\n",
       "    }\n",
       "\n",
       "    .dataframe tbody tr th {\n",
       "        vertical-align: top;\n",
       "    }\n",
       "\n",
       "    .dataframe thead th {\n",
       "        text-align: right;\n",
       "    }\n",
       "</style>\n",
       "<table border=\"1\" class=\"dataframe\">\n",
       "  <thead>\n",
       "    <tr style=\"text-align: right;\">\n",
       "      <th></th>\n",
       "      <th>Month_Year</th>\n",
       "      <th>Crashes_per_100k</th>\n",
       "      <th>Season</th>\n",
       "      <th>Smartphone_Survey_Date</th>\n",
       "      <th>Smartphone_usage</th>\n",
       "    </tr>\n",
       "  </thead>\n",
       "  <tbody>\n",
       "    <tr>\n",
       "      <th>0</th>\n",
       "      <td>Apr-12</td>\n",
       "      <td>133.213685</td>\n",
       "      <td>Spring</td>\n",
       "      <td>4/3/12</td>\n",
       "      <td>46</td>\n",
       "    </tr>\n",
       "    <tr>\n",
       "      <th>1</th>\n",
       "      <td>Apr-15</td>\n",
       "      <td>150.077792</td>\n",
       "      <td>Spring</td>\n",
       "      <td>4/12/15</td>\n",
       "      <td>67</td>\n",
       "    </tr>\n",
       "    <tr>\n",
       "      <th>2</th>\n",
       "      <td>Apr-16</td>\n",
       "      <td>172.401948</td>\n",
       "      <td>Spring</td>\n",
       "      <td>4/4/16</td>\n",
       "      <td>72</td>\n",
       "    </tr>\n",
       "    <tr>\n",
       "      <th>3</th>\n",
       "      <td>Aug-12</td>\n",
       "      <td>145.403147</td>\n",
       "      <td>Summer</td>\n",
       "      <td>8/5/12</td>\n",
       "      <td>44</td>\n",
       "    </tr>\n",
       "    <tr>\n",
       "      <th>4</th>\n",
       "      <td>Dec-12</td>\n",
       "      <td>169.160811</td>\n",
       "      <td>Winter</td>\n",
       "      <td>12/9/12</td>\n",
       "      <td>45</td>\n",
       "    </tr>\n",
       "  </tbody>\n",
       "</table>\n",
       "</div>"
      ],
      "text/plain": [
       "  Month_Year  Crashes_per_100k  Season Smartphone_Survey_Date  \\\n",
       "0     Apr-12        133.213685  Spring                 4/3/12   \n",
       "1     Apr-15        150.077792  Spring                4/12/15   \n",
       "2     Apr-16        172.401948  Spring                 4/4/16   \n",
       "3     Aug-12        145.403147  Summer                 8/5/12   \n",
       "4     Dec-12        169.160811  Winter                12/9/12   \n",
       "\n",
       "   Smartphone_usage  \n",
       "0                46  \n",
       "1                67  \n",
       "2                72  \n",
       "3                44  \n",
       "4                45  "
      ]
     },
     "execution_count": 47,
     "metadata": {},
     "output_type": "execute_result"
    }
   ],
   "source": [
    "# import dataset\n",
    "smartphone = pd.read_csv(\"crashes_smartphones.csv\")\n",
    "\n",
    "# inspect first few rows\n",
    "smartphone.head()"
   ]
  },
  {
   "cell_type": "markdown",
   "id": "6f6e4922",
   "metadata": {},
   "source": [
    "### 6. Format date data type\n",
    "Similar to the  `traffic` data frame, the `smartphone` data frame has a date column that is not properly formatted. We'll need to convert the `Smartphone_Survey_Date` column to the date data type using the `pd.to_datetime()` function and then inspect the data types in the data frame."
   ]
  },
  {
   "cell_type": "code",
   "execution_count": 48,
   "id": "77178bee",
   "metadata": {
    "colab": {
     "base_uri": "https://localhost:8080/"
    },
    "executionInfo": {
     "elapsed": 158,
     "status": "ok",
     "timestamp": 1668484674890,
     "user": {
      "displayName": "Maggi Mars",
      "userId": "15664582298795720795"
     },
     "user_tz": 300
    },
    "id": "77178bee",
    "outputId": "6293ba51-daea-4199-da4a-bc92c885c98e"
   },
   "outputs": [
    {
     "data": {
      "text/plain": [
       "Month_Year                 object\n",
       "Crashes_per_100k          float64\n",
       "Season                     object\n",
       "Smartphone_Survey_Date     object\n",
       "Smartphone_usage            int64\n",
       "dtype: object"
      ]
     },
     "execution_count": 48,
     "metadata": {},
     "output_type": "execute_result"
    }
   ],
   "source": [
    "smartphone.dtypes"
   ]
  },
  {
   "cell_type": "code",
   "execution_count": 49,
   "id": "c6094389",
   "metadata": {},
   "outputs": [
    {
     "data": {
      "text/plain": [
       "Month_Year                        object\n",
       "Crashes_per_100k                 float64\n",
       "Season                            object\n",
       "Smartphone_Survey_Date    datetime64[ns]\n",
       "Smartphone_usage                   int64\n",
       "dtype: object"
      ]
     },
     "execution_count": 49,
     "metadata": {},
     "output_type": "execute_result"
    }
   ],
   "source": [
    "smartphone.Smartphone_Survey_Date = pd.to_datetime(smartphone.Smartphone_Survey_Date)\n",
    "\n",
    "smartphone.dtypes"
   ]
  },
  {
   "cell_type": "code",
   "execution_count": 50,
   "id": "97dc6650",
   "metadata": {
    "scrolled": true
   },
   "outputs": [
    {
     "data": {
      "text/html": [
       "<div>\n",
       "<style scoped>\n",
       "    .dataframe tbody tr th:only-of-type {\n",
       "        vertical-align: middle;\n",
       "    }\n",
       "\n",
       "    .dataframe tbody tr th {\n",
       "        vertical-align: top;\n",
       "    }\n",
       "\n",
       "    .dataframe thead th {\n",
       "        text-align: right;\n",
       "    }\n",
       "</style>\n",
       "<table border=\"1\" class=\"dataframe\">\n",
       "  <thead>\n",
       "    <tr style=\"text-align: right;\">\n",
       "      <th></th>\n",
       "      <th>Month_Year</th>\n",
       "      <th>Crashes_per_100k</th>\n",
       "      <th>Season</th>\n",
       "      <th>Smartphone_Survey_Date</th>\n",
       "      <th>Smartphone_usage</th>\n",
       "    </tr>\n",
       "  </thead>\n",
       "  <tbody>\n",
       "    <tr>\n",
       "      <th>0</th>\n",
       "      <td>Apr-12</td>\n",
       "      <td>133.213685</td>\n",
       "      <td>Spring</td>\n",
       "      <td>2012-04-03</td>\n",
       "      <td>46</td>\n",
       "    </tr>\n",
       "    <tr>\n",
       "      <th>1</th>\n",
       "      <td>Apr-15</td>\n",
       "      <td>150.077792</td>\n",
       "      <td>Spring</td>\n",
       "      <td>2015-04-12</td>\n",
       "      <td>67</td>\n",
       "    </tr>\n",
       "    <tr>\n",
       "      <th>2</th>\n",
       "      <td>Apr-16</td>\n",
       "      <td>172.401948</td>\n",
       "      <td>Spring</td>\n",
       "      <td>2016-04-04</td>\n",
       "      <td>72</td>\n",
       "    </tr>\n",
       "    <tr>\n",
       "      <th>3</th>\n",
       "      <td>Aug-12</td>\n",
       "      <td>145.403147</td>\n",
       "      <td>Summer</td>\n",
       "      <td>2012-08-05</td>\n",
       "      <td>44</td>\n",
       "    </tr>\n",
       "    <tr>\n",
       "      <th>4</th>\n",
       "      <td>Dec-12</td>\n",
       "      <td>169.160811</td>\n",
       "      <td>Winter</td>\n",
       "      <td>2012-12-09</td>\n",
       "      <td>45</td>\n",
       "    </tr>\n",
       "  </tbody>\n",
       "</table>\n",
       "</div>"
      ],
      "text/plain": [
       "  Month_Year  Crashes_per_100k  Season Smartphone_Survey_Date  \\\n",
       "0     Apr-12        133.213685  Spring             2012-04-03   \n",
       "1     Apr-15        150.077792  Spring             2015-04-12   \n",
       "2     Apr-16        172.401948  Spring             2016-04-04   \n",
       "3     Aug-12        145.403147  Summer             2012-08-05   \n",
       "4     Dec-12        169.160811  Winter             2012-12-09   \n",
       "\n",
       "   Smartphone_usage  \n",
       "0                46  \n",
       "1                67  \n",
       "2                72  \n",
       "3                44  \n",
       "4                45  "
      ]
     },
     "execution_count": 50,
     "metadata": {},
     "output_type": "execute_result"
    }
   ],
   "source": [
    "smartphone.head()"
   ]
  },
  {
   "cell_type": "code",
   "execution_count": 51,
   "id": "c5abd6ac",
   "metadata": {},
   "outputs": [
    {
     "data": {
      "text/plain": [
       "(28, 5)"
      ]
     },
     "execution_count": 51,
     "metadata": {},
     "output_type": "execute_result"
    }
   ],
   "source": [
    "smartphone.shape"
   ]
  },
  {
   "cell_type": "markdown",
   "id": "17f6b99f",
   "metadata": {
    "id": "17f6b99f"
   },
   "source": [
    "There is a lot less data available for smartphone usage rates than there was for crash rates. The `smartphone` dataframe consists of 5 columns and 28 rows."
   ]
  },
  {
   "cell_type": "markdown",
   "id": "2248c64d",
   "metadata": {
    "id": "2248c64d"
   },
   "source": [
    "### 7. Visualize smartphone use data"
   ]
  },
  {
   "cell_type": "code",
   "execution_count": 62,
   "id": "fd1c6dc4",
   "metadata": {
    "colab": {
     "base_uri": "https://localhost:8080/",
     "height": 285
    },
    "executionInfo": {
     "elapsed": 428,
     "status": "ok",
     "timestamp": 1668484682326,
     "user": {
      "displayName": "Maggi Mars",
      "userId": "15664582298795720795"
     },
     "user_tz": 300
    },
    "id": "fd1c6dc4",
    "outputId": "a5c24975-5679-4783-efac-27543c44a8b5",
    "scrolled": false
   },
   "outputs": [
    {
     "data": {
      "text/plain": [
       "<AxesSubplot:xlabel='Smartphone_Survey_Date', ylabel='Smartphone_usage'>"
      ]
     },
     "execution_count": 62,
     "metadata": {},
     "output_type": "execute_result"
    },
    {
     "data": {
      "image/png": "[encoded data removed]",
      "text/plain": [
       "<Figure size 640x480 with 1 Axes>"
      ]
     },
     "metadata": {},
     "output_type": "display_data"
    }
   ],
   "source": [
    "# creating line plot\n",
    "sns.lineplot(x=smartphone.Smartphone_Survey_Date, y=smartphone.Smartphone_usage)"
   ]
  },
  {
   "cell_type": "markdown",
   "id": "cc6a3411",
   "metadata": {
    "id": "cc6a3411"
   },
   "source": [
    "We can see a trend of smartphone usage increasing over time."
   ]
  },
  {
   "cell_type": "markdown",
   "id": "1ce54e7e",
   "metadata": {
    "id": "1ce54e7e"
   },
   "source": [
    "## Relationship exploration"
   ]
  },
  {
   "cell_type": "markdown",
   "id": "30d66b8f",
   "metadata": {
    "id": "30d66b8f"
   },
   "source": [
    "### 8. Visualize crash rate by smartphone use\n",
    "Creating a scatter plot with smartphone usage on one axis and crash rates on the other axis to give us an idea of whether there is a relationship between these two variables. "
   ]
  },
  {
   "cell_type": "code",
   "execution_count": 53,
   "id": "5576adaa",
   "metadata": {
    "colab": {
     "base_uri": "https://localhost:8080/",
     "height": 285
    },
    "executionInfo": {
     "elapsed": 791,
     "status": "ok",
     "timestamp": 1668484685457,
     "user": {
      "displayName": "Maggi Mars",
      "userId": "15664582298795720795"
     },
     "user_tz": 300
    },
    "id": "5576adaa",
    "outputId": "d8bb02c3-db9c-4b84-d651-575effb8937a",
    "scrolled": false
   },
   "outputs": [
    {
     "data": {
      "text/plain": [
       "<AxesSubplot:xlabel='Smartphone_usage', ylabel='Crashes_per_100k'>"
      ]
     },
     "execution_count": 53,
     "metadata": {},
     "output_type": "execute_result"
    },
    {
     "data": {
      "image/png": "[encoded data removed]",
      "text/plain": [
       "<Figure size 640x480 with 1 Axes>"
      ]
     },
     "metadata": {},
     "output_type": "display_data"
    }
   ],
   "source": [
    "# creating scatter plot with regression line\n",
    "sns.regplot(x=smartphone.Smartphone_usage, y=smartphone.Crashes_per_100k)"
   ]
  },
  {
   "cell_type": "markdown",
   "id": "37d4c0d8",
   "metadata": {
    "id": "37d4c0d8"
   },
   "source": [
    "There appears to be a positive linear relationship between the rate of car crashes and the rate of adult smartphone usage in the U.S."
   ]
  },
  {
   "cell_type": "markdown",
   "id": "1bbf2930",
   "metadata": {
    "id": "1bbf2930"
   },
   "source": [
    "### 9. Checking the correlation coefficient\n",
    "\n",
    "To test whether the correlation between `Smartphone_usage` and `Crashes_per_100k` is statistically significant, we need to calculate the Pearson's _r_ correlation coefficient and the associated _p_-value. "
   ]
  },
  {
   "cell_type": "code",
   "execution_count": 54,
   "id": "b0ebdb9f",
   "metadata": {
    "colab": {
     "base_uri": "https://localhost:8080/"
    },
    "executionInfo": {
     "elapsed": 153,
     "status": "ok",
     "timestamp": 1668484688481,
     "user": {
      "displayName": "Maggi Mars",
      "userId": "15664582298795720795"
     },
     "user_tz": 300
    },
    "id": "b0ebdb9f",
    "outputId": "ad42733a-b2b7-4937-c2c4-d28386a6344f"
   },
   "outputs": [
    {
     "name": "stdout",
     "output_type": "stream",
     "text": [
      "Pearson's r = 0.513\n",
      "p =  0.005\n"
     ]
    }
   ],
   "source": [
    "# finding Pearson's r and p-value\n",
    "corr, p = pearsonr(smartphone.Smartphone_usage, smartphone.Crashes_per_100k)\n",
    "\n",
    "# printing corr and p\n",
    "print(\"Pearson's r =\",  round(corr,3))\n",
    "print(\"p = \", round(p,3))"
   ]
  },
  {
   "cell_type": "markdown",
   "id": "d744043c",
   "metadata": {
    "id": "d744043c"
   },
   "source": [
    "The Pearson's r correlation coefficient is greater than 0.5, which indicates a moderately strong positive relationship. The p-value is less than 0.05. Together, this tells us that there is a statistically significant correlation between adult smartphone usage rates and car crash rates in the U.S. We have to be careful though: correlation does not mean causation, as the saying goes. Many other factors may be contributing to the rise in car crash rates from 2011 to 2019. "
   ]
  },
  {
   "cell_type": "markdown",
   "id": "48c21f67",
   "metadata": {
    "id": "48c21f67"
   },
   "source": [
    "## Analysis"
   ]
  },
  {
   "cell_type": "markdown",
   "id": "211af520",
   "metadata": {
    "id": "211af520"
   },
   "source": [
    "### 10. Running a linear regression\n",
    "We can use a linear regression to predict crash rates based on smart phone usage. Let's regress crash rates on smartphone usage. Then we can predict the crash rate in 2020 and see if it matches the actual crash rate in 2020!"
   ]
  },
  {
   "cell_type": "code",
   "execution_count": 55,
   "id": "vJThaPpvil3g",
   "metadata": {
    "executionInfo": {
     "elapsed": 182,
     "status": "ok",
     "timestamp": 1668484693130,
     "user": {
      "displayName": "Maggi Mars",
      "userId": "15664582298795720795"
     },
     "user_tz": 300
    },
    "id": "vJThaPpvil3g"
   },
   "outputs": [],
   "source": [
    "# converting columns to arrays\n",
    "X = smartphone['Smartphone_usage'].to_numpy().reshape(-1, 1)\n",
    "y = smartphone['Crashes_per_100k'].to_numpy().reshape(-1, 1)"
   ]
  },
  {
   "cell_type": "code",
   "execution_count": 56,
   "id": "b_SoKHv6jQXX",
   "metadata": {
    "executionInfo": {
     "elapsed": 151,
     "status": "ok",
     "timestamp": 1668484694774,
     "user": {
      "displayName": "Maggi Mars",
      "userId": "15664582298795720795"
     },
     "user_tz": 300
    },
    "id": "b_SoKHv6jQXX"
   },
   "outputs": [],
   "source": [
    "# instantiating the linear regression model\n",
    "lm = LinearRegression()\n",
    "\n",
    "# fitting the model\n",
    "model = lm.fit(X, y)"
   ]
  },
  {
   "cell_type": "markdown",
   "id": "c31f3ac6",
   "metadata": {
    "id": "c31f3ac6"
   },
   "source": [
    "### 11. Printing and interpreting regression coefficients\n",
    "\n",
    "Let's see the values our model produced"
   ]
  },
  {
   "cell_type": "code",
   "execution_count": 63,
   "id": "721ab861",
   "metadata": {
    "colab": {
     "base_uri": "https://localhost:8080/"
    },
    "executionInfo": {
     "elapsed": 326,
     "status": "ok",
     "timestamp": 1668484696805,
     "user": {
      "displayName": "Maggi Mars",
      "userId": "15664582298795720795"
     },
     "user_tz": 300
    },
    "id": "721ab861",
    "outputId": "d157fed8-5fb9-4773-9401-40bbd3327b4b"
   },
   "outputs": [
    {
     "name": "stdout",
     "output_type": "stream",
     "text": [
      "Intercept:  [120.6637106]\n",
      "Coefficient:  [[0.66103316]]\n"
     ]
    }
   ],
   "source": [
    "print(\"Intercept: \", lm.intercept_)\n",
    "print(\"Coefficient: \", lm.coef_)"
   ]
  },
  {
   "cell_type": "markdown",
   "id": "a7157c02",
   "metadata": {
    "id": "a7157c02"
   },
   "source": [
    "### 12. Making a prediction\n",
    "\n",
    "Let's assume smartphone usage was the same for 2020 as it was for 2019. This is a reasonable asssumption since the increase in smartphone usage that we observed in our plot started to plateau at the end of the time series. Let's use this approximation and our regression model to predict the crash rate in 2020.\n",
    "\n",
    "From our model output, the regression line equation is `Crashes_per_100k = 120.6637 + (0.6610 * Smartphone_usage)`. We'll run the code to view the smartphone usage rate for 2019. Then substitute this value into the equation, using Python as a calculator to predict the crash rate for 2020."
   ]
  },
  {
   "cell_type": "code",
   "execution_count": 58,
   "id": "59988a50",
   "metadata": {
    "colab": {
     "base_uri": "https://localhost:8080/"
    },
    "executionInfo": {
     "elapsed": 391,
     "status": "ok",
     "timestamp": 1668484700388,
     "user": {
      "displayName": "Maggi Mars",
      "userId": "15664582298795720795"
     },
     "user_tz": 300
    },
    "id": "59988a50",
    "outputId": "2b46a924-cd3c-46d1-d39c-1e4404661f3c",
    "scrolled": false
   },
   "outputs": [
    {
     "data": {
      "text/html": [
       "<div>\n",
       "<style scoped>\n",
       "    .dataframe tbody tr th:only-of-type {\n",
       "        vertical-align: middle;\n",
       "    }\n",
       "\n",
       "    .dataframe tbody tr th {\n",
       "        vertical-align: top;\n",
       "    }\n",
       "\n",
       "    .dataframe thead th {\n",
       "        text-align: right;\n",
       "    }\n",
       "</style>\n",
       "<table border=\"1\" class=\"dataframe\">\n",
       "  <thead>\n",
       "    <tr style=\"text-align: right;\">\n",
       "      <th></th>\n",
       "      <th>Month_Year</th>\n",
       "      <th>Crashes_per_100k</th>\n",
       "      <th>Season</th>\n",
       "      <th>Smartphone_Survey_Date</th>\n",
       "      <th>Smartphone_usage</th>\n",
       "    </tr>\n",
       "  </thead>\n",
       "  <tbody>\n",
       "    <tr>\n",
       "      <th>7</th>\n",
       "      <td>Feb-19</td>\n",
       "      <td>161.88654</td>\n",
       "      <td>Winter</td>\n",
       "      <td>2019-02-07</td>\n",
       "      <td>81</td>\n",
       "    </tr>\n",
       "  </tbody>\n",
       "</table>\n",
       "</div>"
      ],
      "text/plain": [
       "  Month_Year  Crashes_per_100k  Season Smartphone_Survey_Date  \\\n",
       "7     Feb-19         161.88654  Winter             2019-02-07   \n",
       "\n",
       "   Smartphone_usage  \n",
       "7                81  "
      ]
     },
     "execution_count": 58,
     "metadata": {},
     "output_type": "execute_result"
    }
   ],
   "source": [
    "# get the smartphone usage rate from 2019\n",
    "smartphone[smartphone['Month_Year'] == \"Feb-19\"]"
   ]
  },
  {
   "cell_type": "code",
   "execution_count": 59,
   "id": "5mcupBM5pEaN",
   "metadata": {
    "colab": {
     "base_uri": "https://localhost:8080/"
    },
    "executionInfo": {
     "elapsed": 335,
     "status": "ok",
     "timestamp": 1668484702540,
     "user": {
      "displayName": "Maggi Mars",
      "userId": "15664582298795720795"
     },
     "user_tz": 300
    },
    "id": "5mcupBM5pEaN",
    "outputId": "4609aab8-b571-49de-fb2a-f072dc197c98"
   },
   "outputs": [
    {
     "name": "stdout",
     "output_type": "stream",
     "text": [
      "[[174.20739643]]\n"
     ]
    }
   ],
   "source": [
    "# predict the crash rate in 2020 using the regression equation\n",
    "y_pred = lm.intercept_ + lm.coef_ * 81\n",
    "print(y_pred)"
   ]
  },
  {
   "cell_type": "markdown",
   "id": "SKEm_SvPAuDH",
   "metadata": {
    "id": "SKEm_SvPAuDH"
   },
   "source": [
    "If the smartphone usage rate was the same in 2020 as in 2019 (81%), our model predicts that the crash rate in 2020 would be 174.205 crashes per 100,000 people.  "
   ]
  },
  {
   "cell_type": "markdown",
   "id": "eb98f84b",
   "metadata": {
    "id": "a7157c02"
   },
   "source": [
    "### 13. Comparing to the actual rate\n",
    "\n",
    "How good was our prediction?"
   ]
  },
  {
   "cell_type": "code",
   "execution_count": 60,
   "id": "40_QV3vrrS7v",
   "metadata": {
    "colab": {
     "base_uri": "https://localhost:8080/"
    },
    "executionInfo": {
     "elapsed": 220,
     "status": "ok",
     "timestamp": 1668484710394,
     "user": {
      "displayName": "Maggi Mars",
      "userId": "15664582298795720795"
     },
     "user_tz": 300
    },
    "id": "40_QV3vrrS7v",
    "outputId": "6478dbef-1a97-4db3-e47a-12e1be96f4f5",
    "scrolled": true
   },
   "outputs": [
    {
     "data": {
      "text/html": [
       "<div>\n",
       "<style scoped>\n",
       "    .dataframe tbody tr th:only-of-type {\n",
       "        vertical-align: middle;\n",
       "    }\n",
       "\n",
       "    .dataframe tbody tr th {\n",
       "        vertical-align: top;\n",
       "    }\n",
       "\n",
       "    .dataframe thead th {\n",
       "        text-align: right;\n",
       "    }\n",
       "</style>\n",
       "<table border=\"1\" class=\"dataframe\">\n",
       "  <thead>\n",
       "    <tr style=\"text-align: right;\">\n",
       "      <th></th>\n",
       "      <th>Date</th>\n",
       "      <th>Crashes_per_100k</th>\n",
       "      <th>Season</th>\n",
       "    </tr>\n",
       "  </thead>\n",
       "  <tbody>\n",
       "    <tr>\n",
       "      <th>169</th>\n",
       "      <td>2020-02-01</td>\n",
       "      <td>157.88955</td>\n",
       "      <td>Winter</td>\n",
       "    </tr>\n",
       "  </tbody>\n",
       "</table>\n",
       "</div>"
      ],
      "text/plain": [
       "          Date  Crashes_per_100k  Season\n",
       "169 2020-02-01         157.88955  Winter"
      ]
     },
     "execution_count": 60,
     "metadata": {},
     "output_type": "execute_result"
    }
   ],
   "source": [
    "# the actual crash rate in Feb 2020\n",
    "traffic[traffic.Date == \"2020-02-01\"]"
   ]
  },
  {
   "cell_type": "markdown",
   "id": "BjcAJewtBoMG",
   "metadata": {
    "id": "BjcAJewtBoMG"
   },
   "source": [
    "The actual crash rate in Februrary of 2020 was only 157.8895, which was a fair bit lower than our prediction. "
   ]
  },
  {
   "cell_type": "markdown",
   "id": "727f8b10",
   "metadata": {
    "id": "727f8b10"
   },
   "source": [
    "### 14. Visualize the prediction\n",
    "\n",
    "Let's plot our regression plot again, but let's add two new points on top:\n",
    "\n",
    "* The predicted 2020 crash rate\n",
    "* The actual 2020 crash rate"
   ]
  },
  {
   "cell_type": "code",
   "execution_count": 61,
   "id": "8e5de054",
   "metadata": {
    "colab": {
     "base_uri": "https://localhost:8080/",
     "height": 285
    },
    "executionInfo": {
     "elapsed": 465,
     "status": "ok",
     "timestamp": 1668485016589,
     "user": {
      "displayName": "Maggi Mars",
      "userId": "15664582298795720795"
     },
     "user_tz": 300
    },
    "id": "8e5de054",
    "outputId": "e811ca03-73f1-4b4c-d434-3cc416088c33",
    "scrolled": false
   },
   "outputs": [
    {
     "data": {
      "image/png": "[encoded data removed]",
      "text/plain": [
       "<Figure size 640x480 with 1 Axes>"
      ]
     },
     "metadata": {},
     "output_type": "display_data"
    }
   ],
   "source": [
    "# the regression plot we made earlier\n",
    "sns.regplot(x = 'Smartphone_usage', y = 'Crashes_per_100k', data = smartphone)\n",
    "\n",
    "# adding a scatter plot layer to show the actual and predicted 2020 values\n",
    "sns.scatterplot(x=[81, 81], y=[174.20739643, 157.88955], hue=['predicted','actual'], style=['predicted', 'actual'],\n",
    "                markers = ['X','o'], palette=['navy','orange'], s=200)\n",
    "\n",
    "# adding legend title\n",
    "plt.legend(title='2020')\n",
    "plt.show()"
   ]
  },
  {
   "cell_type": "markdown",
   "id": "e7q0GtfuDya4",
   "metadata": {
    "id": "e7q0GtfuDya4"
   },
   "source": [
    "By adding another layer to our regression plot, we can see the difference between the predicted and real crash rates in February 2020. This allows us to see how these values compare to the rest of the dataset. "
   ]
  }
 ],
 "metadata": {
  "colab": {
   "collapsed_sections": [],
   "provenance": []
  },
  "kernelspec": {
   "display_name": "Python 3 (ipykernel)",
   "language": "python",
   "name": "python3"
  },
  "language_info": {
   "codemirror_mode": {
    "name": "ipython",
    "version": 3
   },
   "file_extension": ".py",
   "mimetype": "text/x-python",
   "name": "python",
   "nbconvert_exporter": "python",
   "pygments_lexer": "ipython3",
   "version": "3.8.10"
  }
 },
 "nbformat": 4,
 "nbformat_minor": 5
}
